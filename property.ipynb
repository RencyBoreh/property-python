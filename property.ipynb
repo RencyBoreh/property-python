{
 "cells": [
  {
   "cell_type": "code",
   "execution_count": 81,
   "id": "803b837e-4604-41ab-8dd1-efec25581e8d",
   "metadata": {},
   "outputs": [
    {
     "name": "stdout",
     "output_type": "stream",
     "text": [
      "Grade 4\n",
      "Width is 0cm\n",
      "Height is 20cm\n"
     ]
    }
   ],
   "source": [
    "#property is used to define a method as property and can be accessed like an attribute.\n",
    "#It adds additional logic when read,write or delete attributes.Gives you getter,setterand deleter method\n",
    "class students:\n",
    "    def __init__(self,name,grade,year,course,age):\n",
    "        self._name=name\n",
    "        self._grade=grade\n",
    "        self._year=year\n",
    "        self._course=course\n",
    "        self._age=age\n",
    "        @property\n",
    "        def calling(self):\n",
    "            return f\"Hellow {self._name}.You are {self._age} Years Old.You are in {self._grade} pursuing {self._course}.\"\n",
    "        @property\n",
    "        def names(self):\n",
    "            return f\"Hellow {self._name}\"\n",
    "        @property\n",
    "        def grades(self):\n",
    "            return f\"You are in {self._grade} \"\n",
    "        @property\n",
    "        def year(self):\n",
    "            return f\"The year is {self._year}\"\n",
    "        \n",
    "        @property\n",
    "        def course(self):\n",
    "            return f\"You Pursue {self._course}\"\n",
    "        @property\n",
    "        def age(self):\n",
    "            return f\"You are {self._age}\"\n",
    "student=students(\"Rency Boreh\",\"Grade 4\",2024,\"Software Engineering\",21)\n",
    "print(student._grade)\n",
    "class Rectangle:\n",
    "    def __init__(self,width,height):\n",
    "        self._width=width\n",
    "        self._height=height\n",
    "    @property\n",
    "    def width(self):\n",
    "        return f\"Width is {self._width}cm\"\n",
    "    @property\n",
    "    def height(self):\n",
    "        return f\"Height is {self._height}cm\"\n",
    "    @width.setter\n",
    "    def newidth(self,new_width):\n",
    "         if new>0:\n",
    "             self._width=new_width\n",
    "         else:\n",
    "            print(\"Width Must be greater than zero!\") \n",
    "rectangle=Rectangle(10,20)\n",
    "rectangle._width=0\n",
    "print(rectangle.width)\n",
    "print(rectangle.height)"
   ]
  },
  {
   "cell_type": "code",
   "execution_count": null,
   "id": "437f605c-03db-4801-85b0-65455e9f929f",
   "metadata": {},
   "outputs": [],
   "source": []
  }
 ],
 "metadata": {
  "kernelspec": {
   "display_name": "Python 3 (ipykernel)",
   "language": "python",
   "name": "python3"
  },
  "language_info": {
   "codemirror_mode": {
    "name": "ipython",
    "version": 3
   },
   "file_extension": ".py",
   "mimetype": "text/x-python",
   "name": "python",
   "nbconvert_exporter": "python",
   "pygments_lexer": "ipython3",
   "version": "3.12.4"
  }
 },
 "nbformat": 4,
 "nbformat_minor": 5
}
